{
 "cells": [
  {
   "cell_type": "code",
   "execution_count": 1,
   "metadata": {},
   "outputs": [],
   "source": [
    "import pandas as pd"
   ]
  },
  {
   "cell_type": "code",
   "execution_count": 3,
   "metadata": {},
   "outputs": [
    {
     "name": "stderr",
     "output_type": "stream",
     "text": [
      "/var/folders/vn/70t6k6vx69s7p9x45534rn700000gn/T/ipykernel_13879/3253992153.py:2: DtypeWarning: Columns (7) have mixed types. Specify dtype option on import or set low_memory=False.\n",
      "  train = pd.read_csv('data/train.csv')\n"
     ]
    }
   ],
   "source": [
    "store = pd.read_csv('data/store.csv')\n",
    "train = pd.read_csv('data/train.csv')"
   ]
  },
  {
   "cell_type": "code",
   "execution_count": 4,
   "metadata": {},
   "outputs": [],
   "source": [
    "\n",
    "df = train.merge(store, on='Store')\n",
    "df['Date'] = pd.to_datetime(df['Date'])"
   ]
  },
  {
   "cell_type": "code",
   "execution_count": 5,
   "metadata": {},
   "outputs": [
    {
     "data": {
      "text/plain": [
       "(440048, 16)"
      ]
     },
     "execution_count": 5,
     "metadata": {},
     "output_type": "execute_result"
    }
   ],
   "source": [
    "df.dropna(inplace=True, subset=['Sales', 'Promo', 'StateHoliday', 'SchoolHoliday', 'DayOfWeek'])\n",
    "df = df.loc[df['Sales'] > 0] # Only keep days when sales happened\n",
    "df.drop(columns=['Customers', 'Open'], inplace=True)\n",
    "df.shape"
   ]
  },
  {
   "cell_type": "code",
   "execution_count": 6,
   "metadata": {},
   "outputs": [],
   "source": [
    "df['Year'] = df['Date'].dt.year\n",
    "df['Month'] = df['Date'].dt.month"
   ]
  },
  {
   "cell_type": "code",
   "execution_count": 7,
   "metadata": {},
   "outputs": [
    {
     "data": {
      "text/plain": [
       "Date                              0\n",
       "Store                             0\n",
       "DayOfWeek                         0\n",
       "Sales                             0\n",
       "Promo                             0\n",
       "StateHoliday                      0\n",
       "SchoolHoliday                     0\n",
       "StoreType                         0\n",
       "Assortment                        0\n",
       "CompetitionDistance            1145\n",
       "CompetitionOpenSinceMonth    139794\n",
       "CompetitionOpenSinceYear     139794\n",
       "Promo2                            0\n",
       "Promo2SinceWeek              217001\n",
       "Promo2SinceYear              217001\n",
       "PromoInterval                217001\n",
       "Year                              0\n",
       "Month                             0\n",
       "dtype: int64"
      ]
     },
     "execution_count": 7,
     "metadata": {},
     "output_type": "execute_result"
    }
   ],
   "source": [
    "df.isna().sum()"
   ]
  },
  {
   "cell_type": "code",
   "execution_count": 9,
   "metadata": {},
   "outputs": [],
   "source": [
    "from sklearn.base import BaseEstimator, TransformerMixin\n",
    "from sklearn.compose import ColumnTransformer\n",
    "from sklearn.pipeline import Pipeline\n",
    "\n",
    "class MultipleMeanEncoder(BaseEstimator, TransformerMixin):\n",
    "    def __init__(self, columns_arrays):\n",
    "        self.columns_arrays = columns_arrays\n",
    "        self.means = []\n",
    "\n",
    "    def fit(self, X, y=None):\n",
    "        for cols in self.columns_arrays:\n",
    "            mean = X.groupby(cols, dropna=False)['Sales'].mean().rename(''.join(cols) + 'Mean')\n",
    "            self.means.append(mean)\n",
    "        return self\n",
    "    \n",
    "    def transform(self, X):\n",
    "        X = X.copy()\n",
    "        for i, cols in enumerate(self.columns_arrays):\n",
    "            X = X.merge(self.means[i], on=cols)\n",
    "        return X\n",
    "\n",
    "class MeanEncoder(BaseEstimator, TransformerMixin):\n",
    "    def __init__(self, columns):\n",
    "        self.columns = columns\n",
    "        self.means = {}\n",
    "\n",
    "    def fit(self, X, y=None):\n",
    "        for col in self.columns:\n",
    "            self.means[col] = X.groupby(col, dropna=False)['Sales'].mean().rename(col + 'Mean')\n",
    "        return self\n",
    "\n",
    "    def transform(self, X):\n",
    "        X = X.copy()\n",
    "        for col in self.columns:\n",
    "            X = X.merge(self.means[col], on=col)\n",
    "        return X\n",
    "    \n",
    "class ColumnSelection(BaseEstimator, TransformerMixin):\n",
    "    def __init__(self, columns):\n",
    "        self.columns = columns\n",
    "\n",
    "    def fit(self, X, y=None):\n",
    "        return self\n",
    "    \n",
    "    def transform(self, X):\n",
    "        return X[self.columns]\n",
    "    \n",
    "class ColumnDrop(BaseEstimator, TransformerMixin):\n",
    "    def __init__(self, columns):\n",
    "        self.columns = columns\n",
    "\n",
    "    def fit(self, X, y=None):\n",
    "        return self\n",
    "    \n",
    "    def transform(self, X):\n",
    "        return X.drop(columns=self.columns)"
   ]
  },
  {
   "cell_type": "code",
   "execution_count": 10,
   "metadata": {},
   "outputs": [],
   "source": [
    "from sklearn.ensemble import RandomForestRegressor\n",
    "from sklearn.model_selection import cross_val_score\n",
    "from sklearn.model_selection import train_test_split\n",
    "\n",
    "mean_columns = [\n",
    "    'DayOfWeek',\n",
    "    'Month',\n",
    "    # 'Year',\n",
    "    # 'Assortment',\n",
    "    'StoreType',\n",
    "    'StateHoliday',\n",
    "    # 'SchoolHoliday',\n",
    "    # 'Promo2',\n",
    "    # 'CompetitionOpenSinceMonth',\n",
    "    # 'CompetitionOpenSinceYear',\n",
    "]\n",
    "multiple_mean_columns = [['Promo', 'Store']]\n",
    "multiple_mean_columns_flatten = [col for arr in multiple_mean_columns for col in arr]\n",
    "target_columns = ['Sales']\n",
    "all_columns = mean_columns + multiple_mean_columns_flatten + target_columns\n",
    "\n",
    "preprocessor = Pipeline([\n",
    "    ('column_selection', ColumnSelection(all_columns)),\n",
    "    ('multiple_mean_encoder', MultipleMeanEncoder(multiple_mean_columns)),\n",
    "    ('mean_encoder', MeanEncoder(mean_columns)),\n",
    "    ('column_drop', ColumnDrop(mean_columns + multiple_mean_columns_flatten)),\n",
    "    ('target_drop', ColumnDrop(target_columns)), \n",
    "])\n",
    "\n",
    "pipeline = Pipeline([\n",
    "    ('preprocessor', preprocessor),\n",
    "    ('rf', RandomForestRegressor(n_estimators=100, min_samples_leaf=4, min_samples_split=8)),\n",
    "])\n",
    "\n",
    "X_train, X_test, y_train, y_test = train_test_split(df, df['Sales'], test_size=0.2, random_state=42)"
   ]
  },
  {
   "cell_type": "code",
   "execution_count": 11,
   "metadata": {},
   "outputs": [],
   "source": [
    "pipeline.fit(X_train, y_train)"
   ]
  },
  {
   "cell_type": "code",
   "execution_count": null,
   "metadata": {},
   "outputs": [],
   "source": [
    "def metric(preds, actuals):\n",
    "    assert preds.shape == actuals.shape\n",
    "    return 100 * np.linalg.norm((actuals - preds) / actuals) / np.sqrt(preds.shape[0])"
   ]
  },
  {
   "cell_type": "code",
   "execution_count": null,
   "metadata": {},
   "outputs": [],
   "source": [
    "y_pred = pipeline.predict(X_test)"
   ]
  },
  {
   "cell_type": "code",
   "execution_count": null,
   "metadata": {},
   "outputs": [
    {
     "data": {
      "text/plain": [
       "64.07939779037936"
      ]
     },
     "execution_count": 23,
     "metadata": {},
     "output_type": "execute_result"
    }
   ],
   "source": [
    "metric(y_pred, y_test)"
   ]
  },
  {
   "cell_type": "markdown",
   "metadata": {},
   "source": [
    "Biggest fails, difference:\n",
    "- Specific Date: 11/02/2013 03/03/2014 + surrounding days"
   ]
  }
 ],
 "metadata": {
  "kernelspec": {
   "display_name": "minicomp",
   "language": "python",
   "name": "python3"
  },
  "language_info": {
   "codemirror_mode": {
    "name": "ipython",
    "version": 3
   },
   "file_extension": ".py",
   "mimetype": "text/x-python",
   "name": "python",
   "nbconvert_exporter": "python",
   "pygments_lexer": "ipython3",
   "version": "3.11.4"
  },
  "orig_nbformat": 4
 },
 "nbformat": 4,
 "nbformat_minor": 2
}
