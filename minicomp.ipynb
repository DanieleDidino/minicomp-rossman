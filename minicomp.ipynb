{
 "cells": [
  {
   "cell_type": "code",
   "execution_count": 1,
   "metadata": {},
   "outputs": [],
   "source": [
    "import pandas as pd\n",
    "import numpy as np\n",
    "from sklearn.model_selection import train_test_split"
   ]
  },
  {
   "cell_type": "code",
   "execution_count": 2,
   "metadata": {},
   "outputs": [
    {
     "name": "stderr",
     "output_type": "stream",
     "text": [
      "/var/folders/vn/70t6k6vx69s7p9x45534rn700000gn/T/ipykernel_21758/3253992153.py:2: DtypeWarning: Columns (7) have mixed types. Specify dtype option on import or set low_memory=False.\n",
      "  train = pd.read_csv('data/train.csv')\n"
     ]
    }
   ],
   "source": [
    "store = pd.read_csv('data/store.csv')\n",
    "train = pd.read_csv('data/train.csv')"
   ]
  },
  {
   "cell_type": "code",
   "execution_count": 3,
   "metadata": {},
   "outputs": [],
   "source": [
    "\n",
    "df = train.merge(store, on='Store')\n",
    "df['Date'] = pd.to_datetime(df['Date'])\n",
    "if 'Sales' in df.columns:\n",
    "    df = df.loc[df['Sales'] > 0] # Only keep days when sales happened"
   ]
  },
  {
   "cell_type": "code",
   "execution_count": 4,
   "metadata": {},
   "outputs": [
    {
     "data": {
      "text/plain": [
       "(440048, 16)"
      ]
     },
     "execution_count": 4,
     "metadata": {},
     "output_type": "execute_result"
    }
   ],
   "source": [
    "df.dropna(inplace=True, subset=['Sales', 'Promo', 'StateHoliday', 'SchoolHoliday', 'DayOfWeek'])\n",
    "df.drop(columns=['Customers', 'Open'], inplace=True)\n",
    "df.shape"
   ]
  },
  {
   "cell_type": "code",
   "execution_count": 5,
   "metadata": {},
   "outputs": [],
   "source": [
    "df['Year'] = df['Date'].dt.year\n",
    "df['Month'] = df['Date'].dt.month"
   ]
  },
  {
   "cell_type": "code",
   "execution_count": 135,
   "metadata": {},
   "outputs": [
    {
     "data": {
      "text/plain": [
       "Month\n",
       "1     6398.490721\n",
       "2     6558.403736\n",
       "3     6927.117868\n",
       "4     6891.002368\n",
       "5     7008.660195\n",
       "6     6835.139902\n",
       "7     6919.412084\n",
       "8     6593.521809\n",
       "9     6366.471611\n",
       "10    6476.182723\n",
       "11    6901.433270\n",
       "12    8593.712216\n",
       "Name: Sales, dtype: float64"
      ]
     },
     "execution_count": 135,
     "metadata": {},
     "output_type": "execute_result"
    }
   ],
   "source": [
    "df.groupby('Month')['Sales'].mean()"
   ]
  },
  {
   "cell_type": "code",
   "execution_count": 6,
   "metadata": {},
   "outputs": [],
   "source": [
    "X_train, X_test, y_train, y_test = train_test_split(\n",
    "    df.drop('Sales', axis=1),\n",
    "    df['Sales'],\n",
    "    test_size=0.2,\n",
    "    random_state=42\n",
    ")"
   ]
  },
  {
   "cell_type": "code",
   "execution_count": 7,
   "metadata": {},
   "outputs": [
    {
     "data": {
      "text/plain": [
       "Date                              0\n",
       "Store                             0\n",
       "DayOfWeek                         0\n",
       "Sales                             0\n",
       "Promo                             0\n",
       "StateHoliday                      0\n",
       "SchoolHoliday                     0\n",
       "StoreType                         0\n",
       "Assortment                        0\n",
       "CompetitionDistance            1145\n",
       "CompetitionOpenSinceMonth    139794\n",
       "CompetitionOpenSinceYear     139794\n",
       "Promo2                            0\n",
       "Promo2SinceWeek              217001\n",
       "Promo2SinceYear              217001\n",
       "PromoInterval                217001\n",
       "Year                              0\n",
       "Month                             0\n",
       "dtype: int64"
      ]
     },
     "execution_count": 7,
     "metadata": {},
     "output_type": "execute_result"
    }
   ],
   "source": [
    "df.isna().sum()"
   ]
  },
  {
   "cell_type": "code",
   "execution_count": 213,
   "metadata": {},
   "outputs": [],
   "source": [
    "from sklearn.base import BaseEstimator, TransformerMixin\n",
    "from sklearn.compose import ColumnTransformer\n",
    "from sklearn.pipeline import Pipeline\n",
    "\n",
    "class MultipleMeanEncoder(BaseEstimator, TransformerMixin):\n",
    "    def __init__(self, columns_arrays):\n",
    "        self.columns_arrays = columns_arrays\n",
    "        self.means = []\n",
    "\n",
    "    def fit(self, X, y):\n",
    "        X = X.merge(y, left_index=True, right_index=True)\n",
    "        for cols in self.columns_arrays:\n",
    "            mean = X.groupby(cols, dropna=False)['Sales'].mean().rename(''.join(cols) + 'Mean')\n",
    "            self.means.append(mean)\n",
    "        return self\n",
    "    \n",
    "    def transform(self, X):\n",
    "        for i, cols in enumerate(self.columns_arrays):\n",
    "            X = X.reset_index().merge(self.means[i], how=\"left\", on=cols).set_index('index')\n",
    "        return X\n",
    "\n",
    "class MeanEncoder(BaseEstimator, TransformerMixin):\n",
    "    def __init__(self, columns):\n",
    "        self.columns = columns\n",
    "        self.means = {}\n",
    "\n",
    "    def fit(self, X, y):\n",
    "        X = X.merge(y, left_index=True, right_index=True)\n",
    "        for col in self.columns:\n",
    "            self.means[col] = X.groupby(col, dropna=False)['Sales'].mean().rename(col + 'Mean')\n",
    "        return self\n",
    "\n",
    "    def transform(self, X):\n",
    "        for col in self.columns:\n",
    "            X = X.reset_index().merge(self.means[col], how=\"left\", on=col).set_index('index')\n",
    "        return X\n",
    "\n",
    "class ColumnSelection(BaseEstimator, TransformerMixin):\n",
    "    def __init__(self, columns):\n",
    "        self.columns = columns\n",
    "\n",
    "    def fit(self, X, y=None):\n",
    "        return self\n",
    "    \n",
    "    def transform(self, X):\n",
    "        return X[self.columns]\n",
    "\n",
    "class ColumnDrop(BaseEstimator, TransformerMixin):\n",
    "    def __init__(self, columns):\n",
    "        self.columns = columns\n",
    "\n",
    "    def fit(self, X, y=None):\n",
    "        return self\n",
    "    \n",
    "    def transform(self, X):\n",
    "        return X.drop(columns=self.columns)"
   ]
  },
  {
   "cell_type": "code",
   "execution_count": 214,
   "metadata": {},
   "outputs": [],
   "source": [
    "from sklearn.ensemble import RandomForestRegressor\n",
    "from sklearn.linear_model import LinearRegression\n",
    "\n",
    "mean_columns = [\n",
    "    'DayOfWeek',\n",
    "    'Month',\n",
    "    # 'Year',\n",
    "    # 'Assortment',\n",
    "    'StoreType',\n",
    "    'StateHoliday',\n",
    "    'SchoolHoliday',\n",
    "    'Promo2',\n",
    "    # 'CompetitionOpenSinceMonth',\n",
    "    # 'CompetitionOpenSinceYear',\n",
    "]\n",
    "multiple_mean_columns = [['Promo', 'Store']]\n",
    "multiple_mean_columns_flatten = [col for arr in multiple_mean_columns for col in arr]\n",
    "all_columns = mean_columns + multiple_mean_columns_flatten\n",
    "\n",
    "preprocessor = Pipeline([\n",
    "    ('column_selection', ColumnSelection(all_columns)),\n",
    "    ('multiple_mean_encoder', MultipleMeanEncoder(multiple_mean_columns)),\n",
    "    ('mean_encoder', MeanEncoder(mean_columns)),\n",
    "    ('column_drop', ColumnDrop(mean_columns + multiple_mean_columns_flatten))\n",
    "])\n",
    "\n",
    "pipeline = Pipeline([\n",
    "    ('preprocessor', preprocessor),\n",
    "    # ('lin', LinearRegression()),\n",
    "    ('rf', RandomForestRegressor(n_estimators=100, min_samples_leaf=16, min_samples_split=16, max_depth=20)),\n",
    "])"
   ]
  },
  {
   "cell_type": "code",
   "execution_count": 215,
   "metadata": {},
   "outputs": [
    {
     "data": {
      "text/html": [
       "<div>\n",
       "<style scoped>\n",
       "    .dataframe tbody tr th:only-of-type {\n",
       "        vertical-align: middle;\n",
       "    }\n",
       "\n",
       "    .dataframe tbody tr th {\n",
       "        vertical-align: top;\n",
       "    }\n",
       "\n",
       "    .dataframe thead th {\n",
       "        text-align: right;\n",
       "    }\n",
       "</style>\n",
       "<table border=\"1\" class=\"dataframe\">\n",
       "  <thead>\n",
       "    <tr style=\"text-align: right;\">\n",
       "      <th></th>\n",
       "      <th>PromoStoreMean</th>\n",
       "      <th>DayOfWeekMean</th>\n",
       "      <th>MonthMean</th>\n",
       "      <th>StoreTypeMean</th>\n",
       "      <th>StateHolidayMean</th>\n",
       "      <th>SchoolHolidayMean</th>\n",
       "      <th>Promo2Mean</th>\n",
       "    </tr>\n",
       "    <tr>\n",
       "      <th>index</th>\n",
       "      <th></th>\n",
       "      <th></th>\n",
       "      <th></th>\n",
       "      <th></th>\n",
       "      <th></th>\n",
       "      <th></th>\n",
       "      <th></th>\n",
       "    </tr>\n",
       "  </thead>\n",
       "  <tbody>\n",
       "    <tr>\n",
       "      <th>235760</th>\n",
       "      <td>8125.597701</td>\n",
       "      <td>6893.285887</td>\n",
       "      <td>6930.537308</td>\n",
       "      <td>6662.042460</td>\n",
       "      <td>6761.534741</td>\n",
       "      <td>6780.596565</td>\n",
       "      <td>6442.878192</td>\n",
       "    </tr>\n",
       "    <tr>\n",
       "      <th>373048</th>\n",
       "      <td>5303.385542</td>\n",
       "      <td>5784.096858</td>\n",
       "      <td>6904.569290</td>\n",
       "      <td>6837.627138</td>\n",
       "      <td>6841.079961</td>\n",
       "      <td>6780.596565</td>\n",
       "      <td>7236.639543</td>\n",
       "    </tr>\n",
       "    <tr>\n",
       "      <th>514991</th>\n",
       "      <td>8409.600000</td>\n",
       "      <td>8083.938518</td>\n",
       "      <td>6827.907329</td>\n",
       "      <td>6662.042460</td>\n",
       "      <td>6841.079961</td>\n",
       "      <td>6780.596565</td>\n",
       "      <td>7236.639543</td>\n",
       "    </tr>\n",
       "    <tr>\n",
       "      <th>451638</th>\n",
       "      <td>8393.391534</td>\n",
       "      <td>5784.096858</td>\n",
       "      <td>6904.569290</td>\n",
       "      <td>6837.627138</td>\n",
       "      <td>6841.079961</td>\n",
       "      <td>6780.596565</td>\n",
       "      <td>7236.639543</td>\n",
       "    </tr>\n",
       "    <tr>\n",
       "      <th>86346</th>\n",
       "      <td>5129.898477</td>\n",
       "      <td>6893.285887</td>\n",
       "      <td>6578.053982</td>\n",
       "      <td>6837.627138</td>\n",
       "      <td>6841.079961</td>\n",
       "      <td>7067.378642</td>\n",
       "      <td>6442.878192</td>\n",
       "    </tr>\n",
       "  </tbody>\n",
       "</table>\n",
       "</div>"
      ],
      "text/plain": [
       "        PromoStoreMean  DayOfWeekMean    MonthMean  StoreTypeMean  \\\n",
       "index                                                               \n",
       "235760     8125.597701    6893.285887  6930.537308    6662.042460   \n",
       "373048     5303.385542    5784.096858  6904.569290    6837.627138   \n",
       "514991     8409.600000    8083.938518  6827.907329    6662.042460   \n",
       "451638     8393.391534    5784.096858  6904.569290    6837.627138   \n",
       "86346      5129.898477    6893.285887  6578.053982    6837.627138   \n",
       "\n",
       "        StateHolidayMean  SchoolHolidayMean   Promo2Mean  \n",
       "index                                                     \n",
       "235760       6761.534741        6780.596565  6442.878192  \n",
       "373048       6841.079961        6780.596565  7236.639543  \n",
       "514991       6841.079961        6780.596565  7236.639543  \n",
       "451638       6841.079961        6780.596565  7236.639543  \n",
       "86346        6841.079961        7067.378642  6442.878192  "
      ]
     },
     "execution_count": 215,
     "metadata": {},
     "output_type": "execute_result"
    }
   ],
   "source": [
    "X_transfrom = preprocessor.fit_transform(X_train, y_train)\n",
    "X_transfrom.head()"
   ]
  },
  {
   "cell_type": "code",
   "execution_count": 216,
   "metadata": {},
   "outputs": [
    {
     "data": {
      "text/html": [
       "<style>#sk-container-id-22 {color: black;}#sk-container-id-22 pre{padding: 0;}#sk-container-id-22 div.sk-toggleable {background-color: white;}#sk-container-id-22 label.sk-toggleable__label {cursor: pointer;display: block;width: 100%;margin-bottom: 0;padding: 0.3em;box-sizing: border-box;text-align: center;}#sk-container-id-22 label.sk-toggleable__label-arrow:before {content: \"▸\";float: left;margin-right: 0.25em;color: #696969;}#sk-container-id-22 label.sk-toggleable__label-arrow:hover:before {color: black;}#sk-container-id-22 div.sk-estimator:hover label.sk-toggleable__label-arrow:before {color: black;}#sk-container-id-22 div.sk-toggleable__content {max-height: 0;max-width: 0;overflow: hidden;text-align: left;background-color: #f0f8ff;}#sk-container-id-22 div.sk-toggleable__content pre {margin: 0.2em;color: black;border-radius: 0.25em;background-color: #f0f8ff;}#sk-container-id-22 input.sk-toggleable__control:checked~div.sk-toggleable__content {max-height: 200px;max-width: 100%;overflow: auto;}#sk-container-id-22 input.sk-toggleable__control:checked~label.sk-toggleable__label-arrow:before {content: \"▾\";}#sk-container-id-22 div.sk-estimator input.sk-toggleable__control:checked~label.sk-toggleable__label {background-color: #d4ebff;}#sk-container-id-22 div.sk-label input.sk-toggleable__control:checked~label.sk-toggleable__label {background-color: #d4ebff;}#sk-container-id-22 input.sk-hidden--visually {border: 0;clip: rect(1px 1px 1px 1px);clip: rect(1px, 1px, 1px, 1px);height: 1px;margin: -1px;overflow: hidden;padding: 0;position: absolute;width: 1px;}#sk-container-id-22 div.sk-estimator {font-family: monospace;background-color: #f0f8ff;border: 1px dotted black;border-radius: 0.25em;box-sizing: border-box;margin-bottom: 0.5em;}#sk-container-id-22 div.sk-estimator:hover {background-color: #d4ebff;}#sk-container-id-22 div.sk-parallel-item::after {content: \"\";width: 100%;border-bottom: 1px solid gray;flex-grow: 1;}#sk-container-id-22 div.sk-label:hover label.sk-toggleable__label {background-color: #d4ebff;}#sk-container-id-22 div.sk-serial::before {content: \"\";position: absolute;border-left: 1px solid gray;box-sizing: border-box;top: 0;bottom: 0;left: 50%;z-index: 0;}#sk-container-id-22 div.sk-serial {display: flex;flex-direction: column;align-items: center;background-color: white;padding-right: 0.2em;padding-left: 0.2em;position: relative;}#sk-container-id-22 div.sk-item {position: relative;z-index: 1;}#sk-container-id-22 div.sk-parallel {display: flex;align-items: stretch;justify-content: center;background-color: white;position: relative;}#sk-container-id-22 div.sk-item::before, #sk-container-id-22 div.sk-parallel-item::before {content: \"\";position: absolute;border-left: 1px solid gray;box-sizing: border-box;top: 0;bottom: 0;left: 50%;z-index: -1;}#sk-container-id-22 div.sk-parallel-item {display: flex;flex-direction: column;z-index: 1;position: relative;background-color: white;}#sk-container-id-22 div.sk-parallel-item:first-child::after {align-self: flex-end;width: 50%;}#sk-container-id-22 div.sk-parallel-item:last-child::after {align-self: flex-start;width: 50%;}#sk-container-id-22 div.sk-parallel-item:only-child::after {width: 0;}#sk-container-id-22 div.sk-dashed-wrapped {border: 1px dashed gray;margin: 0 0.4em 0.5em 0.4em;box-sizing: border-box;padding-bottom: 0.4em;background-color: white;}#sk-container-id-22 div.sk-label label {font-family: monospace;font-weight: bold;display: inline-block;line-height: 1.2em;}#sk-container-id-22 div.sk-label-container {text-align: center;}#sk-container-id-22 div.sk-container {/* jupyter's `normalize.less` sets `[hidden] { display: none; }` but bootstrap.min.css set `[hidden] { display: none !important; }` so we also need the `!important` here to be able to override the default hidden behavior on the sphinx rendered scikit-learn.org. See: https://github.com/scikit-learn/scikit-learn/issues/21755 */display: inline-block !important;position: relative;}#sk-container-id-22 div.sk-text-repr-fallback {display: none;}</style><div id=\"sk-container-id-22\" class=\"sk-top-container\"><div class=\"sk-text-repr-fallback\"><pre>Pipeline(steps=[(&#x27;preprocessor&#x27;,\n",
       "                 Pipeline(steps=[(&#x27;column_selection&#x27;,\n",
       "                                  ColumnSelection(columns=[&#x27;DayOfWeek&#x27;, &#x27;Month&#x27;,\n",
       "                                                           &#x27;StoreType&#x27;,\n",
       "                                                           &#x27;StateHoliday&#x27;,\n",
       "                                                           &#x27;SchoolHoliday&#x27;,\n",
       "                                                           &#x27;Promo2&#x27;, &#x27;Promo&#x27;,\n",
       "                                                           &#x27;Store&#x27;])),\n",
       "                                 (&#x27;multiple_mean_encoder&#x27;,\n",
       "                                  MultipleMeanEncoder(columns_arrays=[[&#x27;Promo&#x27;,\n",
       "                                                                       &#x27;Store&#x27;]])),\n",
       "                                 (&#x27;mean_encoder&#x27;,\n",
       "                                  MeanEncoder(columns=[&#x27;DayOfWeek&#x27;, &#x27;Month&#x27;,\n",
       "                                                       &#x27;StoreType&#x27;,\n",
       "                                                       &#x27;StateHoliday&#x27;,\n",
       "                                                       &#x27;SchoolHoliday&#x27;,\n",
       "                                                       &#x27;Promo2&#x27;])),\n",
       "                                 (&#x27;column_drop&#x27;,\n",
       "                                  ColumnDrop(columns=[&#x27;DayOfWeek&#x27;, &#x27;Month&#x27;,\n",
       "                                                      &#x27;StoreType&#x27;,\n",
       "                                                      &#x27;StateHoliday&#x27;,\n",
       "                                                      &#x27;SchoolHoliday&#x27;, &#x27;Promo2&#x27;,\n",
       "                                                      &#x27;Promo&#x27;, &#x27;Store&#x27;]))])),\n",
       "                (&#x27;lin&#x27;, LinearRegression())])</pre><b>In a Jupyter environment, please rerun this cell to show the HTML representation or trust the notebook. <br />On GitHub, the HTML representation is unable to render, please try loading this page with nbviewer.org.</b></div><div class=\"sk-container\" hidden><div class=\"sk-item sk-dashed-wrapped\"><div class=\"sk-label-container\"><div class=\"sk-label sk-toggleable\"><input class=\"sk-toggleable__control sk-hidden--visually\" id=\"sk-estimator-id-148\" type=\"checkbox\" ><label for=\"sk-estimator-id-148\" class=\"sk-toggleable__label sk-toggleable__label-arrow\">Pipeline</label><div class=\"sk-toggleable__content\"><pre>Pipeline(steps=[(&#x27;preprocessor&#x27;,\n",
       "                 Pipeline(steps=[(&#x27;column_selection&#x27;,\n",
       "                                  ColumnSelection(columns=[&#x27;DayOfWeek&#x27;, &#x27;Month&#x27;,\n",
       "                                                           &#x27;StoreType&#x27;,\n",
       "                                                           &#x27;StateHoliday&#x27;,\n",
       "                                                           &#x27;SchoolHoliday&#x27;,\n",
       "                                                           &#x27;Promo2&#x27;, &#x27;Promo&#x27;,\n",
       "                                                           &#x27;Store&#x27;])),\n",
       "                                 (&#x27;multiple_mean_encoder&#x27;,\n",
       "                                  MultipleMeanEncoder(columns_arrays=[[&#x27;Promo&#x27;,\n",
       "                                                                       &#x27;Store&#x27;]])),\n",
       "                                 (&#x27;mean_encoder&#x27;,\n",
       "                                  MeanEncoder(columns=[&#x27;DayOfWeek&#x27;, &#x27;Month&#x27;,\n",
       "                                                       &#x27;StoreType&#x27;,\n",
       "                                                       &#x27;StateHoliday&#x27;,\n",
       "                                                       &#x27;SchoolHoliday&#x27;,\n",
       "                                                       &#x27;Promo2&#x27;])),\n",
       "                                 (&#x27;column_drop&#x27;,\n",
       "                                  ColumnDrop(columns=[&#x27;DayOfWeek&#x27;, &#x27;Month&#x27;,\n",
       "                                                      &#x27;StoreType&#x27;,\n",
       "                                                      &#x27;StateHoliday&#x27;,\n",
       "                                                      &#x27;SchoolHoliday&#x27;, &#x27;Promo2&#x27;,\n",
       "                                                      &#x27;Promo&#x27;, &#x27;Store&#x27;]))])),\n",
       "                (&#x27;lin&#x27;, LinearRegression())])</pre></div></div></div><div class=\"sk-serial\"><div class=\"sk-item\"><div class=\"sk-label-container\"><div class=\"sk-label sk-toggleable\"><input class=\"sk-toggleable__control sk-hidden--visually\" id=\"sk-estimator-id-149\" type=\"checkbox\" ><label for=\"sk-estimator-id-149\" class=\"sk-toggleable__label sk-toggleable__label-arrow\">preprocessor: Pipeline</label><div class=\"sk-toggleable__content\"><pre>Pipeline(steps=[(&#x27;column_selection&#x27;,\n",
       "                 ColumnSelection(columns=[&#x27;DayOfWeek&#x27;, &#x27;Month&#x27;, &#x27;StoreType&#x27;,\n",
       "                                          &#x27;StateHoliday&#x27;, &#x27;SchoolHoliday&#x27;,\n",
       "                                          &#x27;Promo2&#x27;, &#x27;Promo&#x27;, &#x27;Store&#x27;])),\n",
       "                (&#x27;multiple_mean_encoder&#x27;,\n",
       "                 MultipleMeanEncoder(columns_arrays=[[&#x27;Promo&#x27;, &#x27;Store&#x27;]])),\n",
       "                (&#x27;mean_encoder&#x27;,\n",
       "                 MeanEncoder(columns=[&#x27;DayOfWeek&#x27;, &#x27;Month&#x27;, &#x27;StoreType&#x27;,\n",
       "                                      &#x27;StateHoliday&#x27;, &#x27;SchoolHoliday&#x27;,\n",
       "                                      &#x27;Promo2&#x27;])),\n",
       "                (&#x27;column_drop&#x27;,\n",
       "                 ColumnDrop(columns=[&#x27;DayOfWeek&#x27;, &#x27;Month&#x27;, &#x27;StoreType&#x27;,\n",
       "                                     &#x27;StateHoliday&#x27;, &#x27;SchoolHoliday&#x27;, &#x27;Promo2&#x27;,\n",
       "                                     &#x27;Promo&#x27;, &#x27;Store&#x27;]))])</pre></div></div></div><div class=\"sk-serial\"><div class=\"sk-item\"><div class=\"sk-estimator sk-toggleable\"><input class=\"sk-toggleable__control sk-hidden--visually\" id=\"sk-estimator-id-150\" type=\"checkbox\" ><label for=\"sk-estimator-id-150\" class=\"sk-toggleable__label sk-toggleable__label-arrow\">ColumnSelection</label><div class=\"sk-toggleable__content\"><pre>ColumnSelection(columns=[&#x27;DayOfWeek&#x27;, &#x27;Month&#x27;, &#x27;StoreType&#x27;, &#x27;StateHoliday&#x27;,\n",
       "                         &#x27;SchoolHoliday&#x27;, &#x27;Promo2&#x27;, &#x27;Promo&#x27;, &#x27;Store&#x27;])</pre></div></div></div><div class=\"sk-item\"><div class=\"sk-estimator sk-toggleable\"><input class=\"sk-toggleable__control sk-hidden--visually\" id=\"sk-estimator-id-151\" type=\"checkbox\" ><label for=\"sk-estimator-id-151\" class=\"sk-toggleable__label sk-toggleable__label-arrow\">MultipleMeanEncoder</label><div class=\"sk-toggleable__content\"><pre>MultipleMeanEncoder(columns_arrays=[[&#x27;Promo&#x27;, &#x27;Store&#x27;]])</pre></div></div></div><div class=\"sk-item\"><div class=\"sk-estimator sk-toggleable\"><input class=\"sk-toggleable__control sk-hidden--visually\" id=\"sk-estimator-id-152\" type=\"checkbox\" ><label for=\"sk-estimator-id-152\" class=\"sk-toggleable__label sk-toggleable__label-arrow\">MeanEncoder</label><div class=\"sk-toggleable__content\"><pre>MeanEncoder(columns=[&#x27;DayOfWeek&#x27;, &#x27;Month&#x27;, &#x27;StoreType&#x27;, &#x27;StateHoliday&#x27;,\n",
       "                     &#x27;SchoolHoliday&#x27;, &#x27;Promo2&#x27;])</pre></div></div></div><div class=\"sk-item\"><div class=\"sk-estimator sk-toggleable\"><input class=\"sk-toggleable__control sk-hidden--visually\" id=\"sk-estimator-id-153\" type=\"checkbox\" ><label for=\"sk-estimator-id-153\" class=\"sk-toggleable__label sk-toggleable__label-arrow\">ColumnDrop</label><div class=\"sk-toggleable__content\"><pre>ColumnDrop(columns=[&#x27;DayOfWeek&#x27;, &#x27;Month&#x27;, &#x27;StoreType&#x27;, &#x27;StateHoliday&#x27;,\n",
       "                    &#x27;SchoolHoliday&#x27;, &#x27;Promo2&#x27;, &#x27;Promo&#x27;, &#x27;Store&#x27;])</pre></div></div></div></div></div><div class=\"sk-item\"><div class=\"sk-estimator sk-toggleable\"><input class=\"sk-toggleable__control sk-hidden--visually\" id=\"sk-estimator-id-154\" type=\"checkbox\" ><label for=\"sk-estimator-id-154\" class=\"sk-toggleable__label sk-toggleable__label-arrow\">LinearRegression</label><div class=\"sk-toggleable__content\"><pre>LinearRegression()</pre></div></div></div></div></div></div></div>"
      ],
      "text/plain": [
       "Pipeline(steps=[('preprocessor',\n",
       "                 Pipeline(steps=[('column_selection',\n",
       "                                  ColumnSelection(columns=['DayOfWeek', 'Month',\n",
       "                                                           'StoreType',\n",
       "                                                           'StateHoliday',\n",
       "                                                           'SchoolHoliday',\n",
       "                                                           'Promo2', 'Promo',\n",
       "                                                           'Store'])),\n",
       "                                 ('multiple_mean_encoder',\n",
       "                                  MultipleMeanEncoder(columns_arrays=[['Promo',\n",
       "                                                                       'Store']])),\n",
       "                                 ('mean_encoder',\n",
       "                                  MeanEncoder(columns=['DayOfWeek', 'Month',\n",
       "                                                       'StoreType',\n",
       "                                                       'StateHoliday',\n",
       "                                                       'SchoolHoliday',\n",
       "                                                       'Promo2'])),\n",
       "                                 ('column_drop',\n",
       "                                  ColumnDrop(columns=['DayOfWeek', 'Month',\n",
       "                                                      'StoreType',\n",
       "                                                      'StateHoliday',\n",
       "                                                      'SchoolHoliday', 'Promo2',\n",
       "                                                      'Promo', 'Store']))])),\n",
       "                ('lin', LinearRegression())])"
      ]
     },
     "execution_count": 216,
     "metadata": {},
     "output_type": "execute_result"
    }
   ],
   "source": [
    "pipeline.fit(X_train, y_train)"
   ]
  },
  {
   "cell_type": "code",
   "execution_count": 217,
   "metadata": {},
   "outputs": [],
   "source": [
    "def metric(preds, actuals):\n",
    "    assert preds.shape == actuals.shape\n",
    "    return 100 * np.linalg.norm((actuals - preds) / actuals) / np.sqrt(preds.shape[0])"
   ]
  },
  {
   "cell_type": "code",
   "execution_count": 218,
   "metadata": {},
   "outputs": [],
   "source": [
    "y_pred = pipeline.predict(X_test)"
   ]
  },
  {
   "cell_type": "code",
   "execution_count": 208,
   "metadata": {},
   "outputs": [
    {
     "data": {
      "text/plain": [
       "23.508982217759737"
      ]
     },
     "execution_count": 208,
     "metadata": {},
     "output_type": "execute_result"
    }
   ],
   "source": [
    "metric(y_pred, y_test)"
   ]
  },
  {
   "cell_type": "code",
   "execution_count": 219,
   "metadata": {},
   "outputs": [
    {
     "data": {
      "text/plain": [
       "27.04090193516522"
      ]
     },
     "execution_count": 219,
     "metadata": {},
     "output_type": "execute_result"
    }
   ],
   "source": [
    "y_pred = pipeline.predict(X_train)\n",
    "metric(y_pred, y_train)"
   ]
  },
  {
   "cell_type": "markdown",
   "metadata": {},
   "source": [
    "Biggest fails, difference:\n",
    "- Specific Date: 11/02/2013 03/03/2014 + surrounding days"
   ]
  },
  {
   "cell_type": "code",
   "execution_count": 18,
   "metadata": {},
   "outputs": [],
   "source": [
    "import os\n",
    "import pickle\n",
    "\n",
    "if not os.path.exists('models'):\n",
    "    os.makedirs('models')\n",
    "\n",
    "# open a file, where you ant to store the data\n",
    "file = open('models/final_model', 'wb')\n",
    "\n",
    "# dump information to that file\n",
    "pickle.dump(pipeline, file)\n",
    "\n",
    "# close the file\n",
    "file.close()"
   ]
  }
 ],
 "metadata": {
  "kernelspec": {
   "display_name": "minicomp",
   "language": "python",
   "name": "python3"
  },
  "language_info": {
   "codemirror_mode": {
    "name": "ipython",
    "version": 3
   },
   "file_extension": ".py",
   "mimetype": "text/x-python",
   "name": "python",
   "nbconvert_exporter": "python",
   "pygments_lexer": "ipython3",
   "version": "3.11.4"
  },
  "orig_nbformat": 4
 },
 "nbformat": 4,
 "nbformat_minor": 2
}
