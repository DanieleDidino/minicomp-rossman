{
 "cells": [
  {
   "cell_type": "code",
   "execution_count": 12,
   "metadata": {},
   "outputs": [],
   "source": [
    "import pandas as pd\n",
    "import numpy as np\n",
    "from sklearn.model_selection import train_test_split"
   ]
  },
  {
   "cell_type": "code",
   "execution_count": 13,
   "metadata": {},
   "outputs": [
    {
     "name": "stderr",
     "output_type": "stream",
     "text": [
      "/tmp/ipykernel_11779/3253992153.py:2: DtypeWarning: Columns (7) have mixed types. Specify dtype option on import or set low_memory=False.\n",
      "  train = pd.read_csv('data/train.csv')\n"
     ]
    }
   ],
   "source": [
    "store = pd.read_csv('data/store.csv')\n",
    "train = pd.read_csv('data/train.csv')"
   ]
  },
  {
   "cell_type": "code",
   "execution_count": 14,
   "metadata": {},
   "outputs": [],
   "source": [
    "\n",
    "df = train.merge(store, on='Store')\n",
    "df['Date'] = pd.to_datetime(df['Date'])\n",
    "if 'Sales' in df.columns:\n",
    "    df = df.loc[df['Sales'] > 0] # Only keep days when sales happened"
   ]
  },
  {
   "cell_type": "code",
   "execution_count": 15,
   "metadata": {},
   "outputs": [
    {
     "data": {
      "text/plain": [
       "(440048, 16)"
      ]
     },
     "execution_count": 15,
     "metadata": {},
     "output_type": "execute_result"
    }
   ],
   "source": [
    "df.dropna(inplace=True, subset=['Sales', 'Promo', 'StateHoliday', 'SchoolHoliday', 'DayOfWeek'])\n",
    "df.drop(columns=['Customers', 'Open'], inplace=True)\n",
    "df.shape"
   ]
  },
  {
   "cell_type": "code",
   "execution_count": 16,
   "metadata": {},
   "outputs": [],
   "source": [
    "df['Year'] = df['Date'].dt.year\n",
    "df['Month'] = df['Date'].dt.month"
   ]
  },
  {
   "cell_type": "code",
   "execution_count": 17,
   "metadata": {},
   "outputs": [],
   "source": [
    "X_train, X_test, y_train, y_test = train_test_split(\n",
    "    df.drop('Sales', axis=1),\n",
    "    df['Sales'],\n",
    "    test_size=0.2,\n",
    "    random_state=42\n",
    ")"
   ]
  },
  {
   "cell_type": "code",
   "execution_count": 18,
   "metadata": {},
   "outputs": [
    {
     "data": {
      "text/plain": [
       "Date                              0\n",
       "Store                             0\n",
       "DayOfWeek                         0\n",
       "Sales                             0\n",
       "Promo                             0\n",
       "StateHoliday                      0\n",
       "SchoolHoliday                     0\n",
       "StoreType                         0\n",
       "Assortment                        0\n",
       "CompetitionDistance            1145\n",
       "CompetitionOpenSinceMonth    139794\n",
       "CompetitionOpenSinceYear     139794\n",
       "Promo2                            0\n",
       "Promo2SinceWeek              217001\n",
       "Promo2SinceYear              217001\n",
       "PromoInterval                217001\n",
       "Year                              0\n",
       "Month                             0\n",
       "dtype: int64"
      ]
     },
     "execution_count": 18,
     "metadata": {},
     "output_type": "execute_result"
    }
   ],
   "source": [
    "df.isna().sum()"
   ]
  },
  {
   "cell_type": "code",
   "execution_count": 19,
   "metadata": {},
   "outputs": [],
   "source": [
    "from sklearn.base import BaseEstimator, TransformerMixin\n",
    "from sklearn.compose import ColumnTransformer\n",
    "from sklearn.pipeline import Pipeline\n",
    "\n",
    "class MultipleMeanEncoder(BaseEstimator, TransformerMixin):\n",
    "    def __init__(self, columns_arrays):\n",
    "        self.columns_arrays = columns_arrays\n",
    "        self.means = []\n",
    "\n",
    "    def fit(self, X, y):\n",
    "        X = X.merge(y, left_index=True, right_index=True)\n",
    "        for cols in self.columns_arrays:\n",
    "            mean = X.groupby(cols, dropna=False)['Sales'].mean().rename(''.join(cols) + 'Mean')\n",
    "            self.means.append(mean)\n",
    "        return self\n",
    "    \n",
    "    def transform(self, X):\n",
    "        X = X.copy()\n",
    "        for i, cols in enumerate(self.columns_arrays):\n",
    "            X = X.merge(self.means[i], on=cols)\n",
    "        return X\n",
    "\n",
    "class MeanEncoder(BaseEstimator, TransformerMixin):\n",
    "    def __init__(self, columns):\n",
    "        self.columns = columns\n",
    "        self.means = {}\n",
    "\n",
    "    def fit(self, X, y):\n",
    "        X = X.merge(y, left_index=True, right_index=True)\n",
    "        for col in self.columns:\n",
    "            self.means[col] = X.groupby(col, dropna=False)['Sales'].mean().rename(col + 'Mean')\n",
    "        return self\n",
    "\n",
    "    def transform(self, X):\n",
    "        X = X.copy()\n",
    "        for col in self.columns:\n",
    "            X = X.merge(self.means[col], on=col)\n",
    "        return X\n",
    "\n",
    "class ColumnSelection(BaseEstimator, TransformerMixin):\n",
    "    def __init__(self, columns):\n",
    "        self.columns = columns\n",
    "\n",
    "    def fit(self, X, y=None):\n",
    "        return self\n",
    "    \n",
    "    def transform(self, X):\n",
    "        return X[self.columns]\n",
    "\n",
    "class ColumnDrop(BaseEstimator, TransformerMixin):\n",
    "    def __init__(self, columns):\n",
    "        self.columns = columns\n",
    "\n",
    "    def fit(self, X, y=None):\n",
    "        return self\n",
    "    \n",
    "    def transform(self, X):\n",
    "        return X.drop(columns=self.columns)"
   ]
  },
  {
   "cell_type": "code",
   "execution_count": 20,
   "metadata": {},
   "outputs": [],
   "source": [
    "from sklearn.ensemble import RandomForestRegressor\n",
    "\n",
    "mean_columns = [\n",
    "    'DayOfWeek',\n",
    "    'Month',\n",
    "    # 'Year',\n",
    "    # 'Assortment',\n",
    "    'StoreType',\n",
    "    'StateHoliday',\n",
    "    # 'SchoolHoliday',\n",
    "    # 'Promo2',\n",
    "    # 'CompetitionOpenSinceMonth',\n",
    "    # 'CompetitionOpenSinceYear',\n",
    "]\n",
    "multiple_mean_columns = [['Promo', 'Store']]\n",
    "multiple_mean_columns_flatten = [col for arr in multiple_mean_columns for col in arr]\n",
    "all_columns = mean_columns + multiple_mean_columns_flatten\n",
    "\n",
    "preprocessor = Pipeline([\n",
    "    ('column_selection', ColumnSelection(all_columns)),\n",
    "    ('multiple_mean_encoder', MultipleMeanEncoder(multiple_mean_columns)),\n",
    "    ('mean_encoder', MeanEncoder(mean_columns)),\n",
    "    ('column_drop', ColumnDrop(mean_columns + multiple_mean_columns_flatten))\n",
    "])\n",
    "\n",
    "pipeline = Pipeline([\n",
    "    ('preprocessor', preprocessor),\n",
    "    ('rf', RandomForestRegressor(n_estimators=100, min_samples_leaf=4, min_samples_split=8)),\n",
    "])"
   ]
  },
  {
   "cell_type": "code",
   "execution_count": 21,
   "metadata": {},
   "outputs": [
    {
     "data": {
      "text/html": [
       "<style>#sk-container-id-1 {color: black;}#sk-container-id-1 pre{padding: 0;}#sk-container-id-1 div.sk-toggleable {background-color: white;}#sk-container-id-1 label.sk-toggleable__label {cursor: pointer;display: block;width: 100%;margin-bottom: 0;padding: 0.3em;box-sizing: border-box;text-align: center;}#sk-container-id-1 label.sk-toggleable__label-arrow:before {content: \"▸\";float: left;margin-right: 0.25em;color: #696969;}#sk-container-id-1 label.sk-toggleable__label-arrow:hover:before {color: black;}#sk-container-id-1 div.sk-estimator:hover label.sk-toggleable__label-arrow:before {color: black;}#sk-container-id-1 div.sk-toggleable__content {max-height: 0;max-width: 0;overflow: hidden;text-align: left;background-color: #f0f8ff;}#sk-container-id-1 div.sk-toggleable__content pre {margin: 0.2em;color: black;border-radius: 0.25em;background-color: #f0f8ff;}#sk-container-id-1 input.sk-toggleable__control:checked~div.sk-toggleable__content {max-height: 200px;max-width: 100%;overflow: auto;}#sk-container-id-1 input.sk-toggleable__control:checked~label.sk-toggleable__label-arrow:before {content: \"▾\";}#sk-container-id-1 div.sk-estimator input.sk-toggleable__control:checked~label.sk-toggleable__label {background-color: #d4ebff;}#sk-container-id-1 div.sk-label input.sk-toggleable__control:checked~label.sk-toggleable__label {background-color: #d4ebff;}#sk-container-id-1 input.sk-hidden--visually {border: 0;clip: rect(1px 1px 1px 1px);clip: rect(1px, 1px, 1px, 1px);height: 1px;margin: -1px;overflow: hidden;padding: 0;position: absolute;width: 1px;}#sk-container-id-1 div.sk-estimator {font-family: monospace;background-color: #f0f8ff;border: 1px dotted black;border-radius: 0.25em;box-sizing: border-box;margin-bottom: 0.5em;}#sk-container-id-1 div.sk-estimator:hover {background-color: #d4ebff;}#sk-container-id-1 div.sk-parallel-item::after {content: \"\";width: 100%;border-bottom: 1px solid gray;flex-grow: 1;}#sk-container-id-1 div.sk-label:hover label.sk-toggleable__label {background-color: #d4ebff;}#sk-container-id-1 div.sk-serial::before {content: \"\";position: absolute;border-left: 1px solid gray;box-sizing: border-box;top: 0;bottom: 0;left: 50%;z-index: 0;}#sk-container-id-1 div.sk-serial {display: flex;flex-direction: column;align-items: center;background-color: white;padding-right: 0.2em;padding-left: 0.2em;position: relative;}#sk-container-id-1 div.sk-item {position: relative;z-index: 1;}#sk-container-id-1 div.sk-parallel {display: flex;align-items: stretch;justify-content: center;background-color: white;position: relative;}#sk-container-id-1 div.sk-item::before, #sk-container-id-1 div.sk-parallel-item::before {content: \"\";position: absolute;border-left: 1px solid gray;box-sizing: border-box;top: 0;bottom: 0;left: 50%;z-index: -1;}#sk-container-id-1 div.sk-parallel-item {display: flex;flex-direction: column;z-index: 1;position: relative;background-color: white;}#sk-container-id-1 div.sk-parallel-item:first-child::after {align-self: flex-end;width: 50%;}#sk-container-id-1 div.sk-parallel-item:last-child::after {align-self: flex-start;width: 50%;}#sk-container-id-1 div.sk-parallel-item:only-child::after {width: 0;}#sk-container-id-1 div.sk-dashed-wrapped {border: 1px dashed gray;margin: 0 0.4em 0.5em 0.4em;box-sizing: border-box;padding-bottom: 0.4em;background-color: white;}#sk-container-id-1 div.sk-label label {font-family: monospace;font-weight: bold;display: inline-block;line-height: 1.2em;}#sk-container-id-1 div.sk-label-container {text-align: center;}#sk-container-id-1 div.sk-container {/* jupyter's `normalize.less` sets `[hidden] { display: none; }` but bootstrap.min.css set `[hidden] { display: none !important; }` so we also need the `!important` here to be able to override the default hidden behavior on the sphinx rendered scikit-learn.org. See: https://github.com/scikit-learn/scikit-learn/issues/21755 */display: inline-block !important;position: relative;}#sk-container-id-1 div.sk-text-repr-fallback {display: none;}</style><div id=\"sk-container-id-1\" class=\"sk-top-container\"><div class=\"sk-text-repr-fallback\"><pre>Pipeline(steps=[(&#x27;preprocessor&#x27;,\n",
       "                 Pipeline(steps=[(&#x27;column_selection&#x27;,\n",
       "                                  ColumnSelection(columns=[&#x27;DayOfWeek&#x27;, &#x27;Month&#x27;,\n",
       "                                                           &#x27;StoreType&#x27;,\n",
       "                                                           &#x27;StateHoliday&#x27;,\n",
       "                                                           &#x27;Promo&#x27;, &#x27;Store&#x27;])),\n",
       "                                 (&#x27;multiple_mean_encoder&#x27;,\n",
       "                                  MultipleMeanEncoder(columns_arrays=[[&#x27;Promo&#x27;,\n",
       "                                                                       &#x27;Store&#x27;]])),\n",
       "                                 (&#x27;mean_encoder&#x27;,\n",
       "                                  MeanEncoder(columns=[&#x27;DayOfWeek&#x27;, &#x27;Month&#x27;,\n",
       "                                                       &#x27;StoreType&#x27;,\n",
       "                                                       &#x27;StateHoliday&#x27;])),\n",
       "                                 (&#x27;column_drop&#x27;,\n",
       "                                  ColumnDrop(columns=[&#x27;DayOfWeek&#x27;, &#x27;Month&#x27;,\n",
       "                                                      &#x27;StoreType&#x27;,\n",
       "                                                      &#x27;StateHoliday&#x27;, &#x27;Promo&#x27;,\n",
       "                                                      &#x27;Store&#x27;]))])),\n",
       "                (&#x27;rf&#x27;,\n",
       "                 RandomForestRegressor(min_samples_leaf=4,\n",
       "                                       min_samples_split=8))])</pre><b>In a Jupyter environment, please rerun this cell to show the HTML representation or trust the notebook. <br />On GitHub, the HTML representation is unable to render, please try loading this page with nbviewer.org.</b></div><div class=\"sk-container\" hidden><div class=\"sk-item sk-dashed-wrapped\"><div class=\"sk-label-container\"><div class=\"sk-label sk-toggleable\"><input class=\"sk-toggleable__control sk-hidden--visually\" id=\"sk-estimator-id-1\" type=\"checkbox\" ><label for=\"sk-estimator-id-1\" class=\"sk-toggleable__label sk-toggleable__label-arrow\">Pipeline</label><div class=\"sk-toggleable__content\"><pre>Pipeline(steps=[(&#x27;preprocessor&#x27;,\n",
       "                 Pipeline(steps=[(&#x27;column_selection&#x27;,\n",
       "                                  ColumnSelection(columns=[&#x27;DayOfWeek&#x27;, &#x27;Month&#x27;,\n",
       "                                                           &#x27;StoreType&#x27;,\n",
       "                                                           &#x27;StateHoliday&#x27;,\n",
       "                                                           &#x27;Promo&#x27;, &#x27;Store&#x27;])),\n",
       "                                 (&#x27;multiple_mean_encoder&#x27;,\n",
       "                                  MultipleMeanEncoder(columns_arrays=[[&#x27;Promo&#x27;,\n",
       "                                                                       &#x27;Store&#x27;]])),\n",
       "                                 (&#x27;mean_encoder&#x27;,\n",
       "                                  MeanEncoder(columns=[&#x27;DayOfWeek&#x27;, &#x27;Month&#x27;,\n",
       "                                                       &#x27;StoreType&#x27;,\n",
       "                                                       &#x27;StateHoliday&#x27;])),\n",
       "                                 (&#x27;column_drop&#x27;,\n",
       "                                  ColumnDrop(columns=[&#x27;DayOfWeek&#x27;, &#x27;Month&#x27;,\n",
       "                                                      &#x27;StoreType&#x27;,\n",
       "                                                      &#x27;StateHoliday&#x27;, &#x27;Promo&#x27;,\n",
       "                                                      &#x27;Store&#x27;]))])),\n",
       "                (&#x27;rf&#x27;,\n",
       "                 RandomForestRegressor(min_samples_leaf=4,\n",
       "                                       min_samples_split=8))])</pre></div></div></div><div class=\"sk-serial\"><div class=\"sk-item\"><div class=\"sk-label-container\"><div class=\"sk-label sk-toggleable\"><input class=\"sk-toggleable__control sk-hidden--visually\" id=\"sk-estimator-id-2\" type=\"checkbox\" ><label for=\"sk-estimator-id-2\" class=\"sk-toggleable__label sk-toggleable__label-arrow\">preprocessor: Pipeline</label><div class=\"sk-toggleable__content\"><pre>Pipeline(steps=[(&#x27;column_selection&#x27;,\n",
       "                 ColumnSelection(columns=[&#x27;DayOfWeek&#x27;, &#x27;Month&#x27;, &#x27;StoreType&#x27;,\n",
       "                                          &#x27;StateHoliday&#x27;, &#x27;Promo&#x27;, &#x27;Store&#x27;])),\n",
       "                (&#x27;multiple_mean_encoder&#x27;,\n",
       "                 MultipleMeanEncoder(columns_arrays=[[&#x27;Promo&#x27;, &#x27;Store&#x27;]])),\n",
       "                (&#x27;mean_encoder&#x27;,\n",
       "                 MeanEncoder(columns=[&#x27;DayOfWeek&#x27;, &#x27;Month&#x27;, &#x27;StoreType&#x27;,\n",
       "                                      &#x27;StateHoliday&#x27;])),\n",
       "                (&#x27;column_drop&#x27;,\n",
       "                 ColumnDrop(columns=[&#x27;DayOfWeek&#x27;, &#x27;Month&#x27;, &#x27;StoreType&#x27;,\n",
       "                                     &#x27;StateHoliday&#x27;, &#x27;Promo&#x27;, &#x27;Store&#x27;]))])</pre></div></div></div><div class=\"sk-serial\"><div class=\"sk-item\"><div class=\"sk-estimator sk-toggleable\"><input class=\"sk-toggleable__control sk-hidden--visually\" id=\"sk-estimator-id-3\" type=\"checkbox\" ><label for=\"sk-estimator-id-3\" class=\"sk-toggleable__label sk-toggleable__label-arrow\">ColumnSelection</label><div class=\"sk-toggleable__content\"><pre>ColumnSelection(columns=[&#x27;DayOfWeek&#x27;, &#x27;Month&#x27;, &#x27;StoreType&#x27;, &#x27;StateHoliday&#x27;,\n",
       "                         &#x27;Promo&#x27;, &#x27;Store&#x27;])</pre></div></div></div><div class=\"sk-item\"><div class=\"sk-estimator sk-toggleable\"><input class=\"sk-toggleable__control sk-hidden--visually\" id=\"sk-estimator-id-4\" type=\"checkbox\" ><label for=\"sk-estimator-id-4\" class=\"sk-toggleable__label sk-toggleable__label-arrow\">MultipleMeanEncoder</label><div class=\"sk-toggleable__content\"><pre>MultipleMeanEncoder(columns_arrays=[[&#x27;Promo&#x27;, &#x27;Store&#x27;]])</pre></div></div></div><div class=\"sk-item\"><div class=\"sk-estimator sk-toggleable\"><input class=\"sk-toggleable__control sk-hidden--visually\" id=\"sk-estimator-id-5\" type=\"checkbox\" ><label for=\"sk-estimator-id-5\" class=\"sk-toggleable__label sk-toggleable__label-arrow\">MeanEncoder</label><div class=\"sk-toggleable__content\"><pre>MeanEncoder(columns=[&#x27;DayOfWeek&#x27;, &#x27;Month&#x27;, &#x27;StoreType&#x27;, &#x27;StateHoliday&#x27;])</pre></div></div></div><div class=\"sk-item\"><div class=\"sk-estimator sk-toggleable\"><input class=\"sk-toggleable__control sk-hidden--visually\" id=\"sk-estimator-id-6\" type=\"checkbox\" ><label for=\"sk-estimator-id-6\" class=\"sk-toggleable__label sk-toggleable__label-arrow\">ColumnDrop</label><div class=\"sk-toggleable__content\"><pre>ColumnDrop(columns=[&#x27;DayOfWeek&#x27;, &#x27;Month&#x27;, &#x27;StoreType&#x27;, &#x27;StateHoliday&#x27;, &#x27;Promo&#x27;,\n",
       "                    &#x27;Store&#x27;])</pre></div></div></div></div></div><div class=\"sk-item\"><div class=\"sk-estimator sk-toggleable\"><input class=\"sk-toggleable__control sk-hidden--visually\" id=\"sk-estimator-id-7\" type=\"checkbox\" ><label for=\"sk-estimator-id-7\" class=\"sk-toggleable__label sk-toggleable__label-arrow\">RandomForestRegressor</label><div class=\"sk-toggleable__content\"><pre>RandomForestRegressor(min_samples_leaf=4, min_samples_split=8)</pre></div></div></div></div></div></div></div>"
      ],
      "text/plain": [
       "Pipeline(steps=[('preprocessor',\n",
       "                 Pipeline(steps=[('column_selection',\n",
       "                                  ColumnSelection(columns=['DayOfWeek', 'Month',\n",
       "                                                           'StoreType',\n",
       "                                                           'StateHoliday',\n",
       "                                                           'Promo', 'Store'])),\n",
       "                                 ('multiple_mean_encoder',\n",
       "                                  MultipleMeanEncoder(columns_arrays=[['Promo',\n",
       "                                                                       'Store']])),\n",
       "                                 ('mean_encoder',\n",
       "                                  MeanEncoder(columns=['DayOfWeek', 'Month',\n",
       "                                                       'StoreType',\n",
       "                                                       'StateHoliday'])),\n",
       "                                 ('column_drop',\n",
       "                                  ColumnDrop(columns=['DayOfWeek', 'Month',\n",
       "                                                      'StoreType',\n",
       "                                                      'StateHoliday', 'Promo',\n",
       "                                                      'Store']))])),\n",
       "                ('rf',\n",
       "                 RandomForestRegressor(min_samples_leaf=4,\n",
       "                                       min_samples_split=8))])"
      ]
     },
     "execution_count": 21,
     "metadata": {},
     "output_type": "execute_result"
    }
   ],
   "source": [
    "pipeline.fit(X_train, y_train)"
   ]
  },
  {
   "cell_type": "code",
   "execution_count": 22,
   "metadata": {},
   "outputs": [],
   "source": [
    "def metric(preds, actuals):\n",
    "    assert preds.shape == actuals.shape\n",
    "    return 100 * np.linalg.norm((actuals - preds) / actuals) / np.sqrt(preds.shape[0])"
   ]
  },
  {
   "cell_type": "code",
   "execution_count": 23,
   "metadata": {},
   "outputs": [],
   "source": [
    "y_pred = pipeline.predict(X_test)"
   ]
  },
  {
   "cell_type": "code",
   "execution_count": 24,
   "metadata": {},
   "outputs": [
    {
     "data": {
      "text/plain": [
       "64.01342760105412"
      ]
     },
     "execution_count": 24,
     "metadata": {},
     "output_type": "execute_result"
    }
   ],
   "source": [
    "metric(y_pred, y_test)"
   ]
  },
  {
   "cell_type": "markdown",
   "metadata": {},
   "source": [
    "Biggest fails, difference:\n",
    "- Specific Date: 11/02/2013 03/03/2014 + surrounding days"
   ]
  },
  {
   "cell_type": "code",
   "execution_count": 25,
   "metadata": {},
   "outputs": [],
   "source": [
    "import pickle"
   ]
  },
  {
   "cell_type": "code",
   "execution_count": 26,
   "metadata": {},
   "outputs": [],
   "source": [
    "# open a file, where you ant to store the data\n",
    "file = open('models/final_model', 'wb')\n",
    "\n",
    "# dump information to that file\n",
    "pickle.dump(pipeline, file)\n",
    "\n",
    "# close the file\n",
    "file.close()"
   ]
  }
 ],
 "metadata": {
  "kernelspec": {
   "display_name": "minicomp",
   "language": "python",
   "name": "python3"
  },
  "language_info": {
   "codemirror_mode": {
    "name": "ipython",
    "version": 3
   },
   "file_extension": ".py",
   "mimetype": "text/x-python",
   "name": "python",
   "nbconvert_exporter": "python",
   "pygments_lexer": "ipython3",
   "version": "3.10.6"
  },
  "orig_nbformat": 4
 },
 "nbformat": 4,
 "nbformat_minor": 2
}
